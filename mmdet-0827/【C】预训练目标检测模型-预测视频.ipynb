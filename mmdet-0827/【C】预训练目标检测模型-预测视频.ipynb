{
 "cells": [
  {
   "cell_type": "markdown",
   "id": "b9bb0119-0008-4e9e-bd37-931f368b4ab2",
   "metadata": {},
   "source": [
    "# MMDetection模型库预训练目标检测模型-预测视频\n",
    "\n",
    "作者：同济子豪兄 2022-08-27\n",
    "\n",
    "模型库：https://github.com/open-mmlab/mmdetection/blob/master/docs/en/model_zoo.md"
   ]
  },
  {
   "cell_type": "markdown",
   "id": "bd628bf6-be55-41c0-897f-9ab4acb9763d",
   "metadata": {},
   "source": [
    "## 进入 mmdetection 主目录"
   ]
  },
  {
   "cell_type": "code",
   "execution_count": 1,
   "id": "c878eeb3-9da4-41cd-ad07-8e620e420e86",
   "metadata": {},
   "outputs": [],
   "source": [
    "import os\n",
    "os.chdir('mmdetection')"
   ]
  },
  {
   "cell_type": "markdown",
   "id": "44625547-494a-4980-97fe-503f3d7fff1d",
   "metadata": {},
   "source": [
    "## 视频预测-命令行"
   ]
  },
  {
   "cell_type": "code",
   "execution_count": 24,
   "id": "f88e7ece-6cd0-4be1-9c4e-f4300ea1c621",
   "metadata": {},
   "outputs": [
    {
     "name": "stdout",
     "output_type": "stream",
     "text": [
      "load checkpoint from http path: https://download.openmmlab.com/mmdetection/v2.0/yolox/yolox_x_8x8_300e_coco/yolox_x_8x8_300e_coco_20211126_140254-1ef88d67.pth\n",
      "[                                                  ] 0/159, elapsed: 0s, ETA:/environment/miniconda3/lib/python3.7/site-packages/torch/functional.py:445: UserWarning: torch.meshgrid: in an upcoming release, it will be required to pass the indexing argument. (Triggered internally at  ../aten/src/ATen/native/TensorShape.cpp:2157.)\n",
      "  return _VF.meshgrid(tensors, **kwargs)  # type: ignore[attr-defined]\n",
      "[>>>>>>>>>>>>>>>>>>>>>>>>>>    ] 138/159, 2.4 task/s, elapsed: 57s, ETA:     9s\n"
     ]
    }
   ],
   "source": [
    "!python demo/video_demo.py \\\n",
    "        data/street_20220330_174028.mp4 \\\n",
    "        configs/yolox/yolox_x_8x8_300e_coco.py \\\n",
    "        https://download.openmmlab.com/mmdetection/v2.0/yolox/yolox_x_8x8_300e_coco/yolox_x_8x8_300e_coco_20211126_140254-1ef88d67.pth \\\n",
    "        --device cuda:0 \\\n",
    "        --score-thr 0.3 \\\n",
    "        --wait-time 0 \\\n",
    "        --out output/video_output.mp4\n",
    "        "
   ]
  },
  {
   "cell_type": "code",
   "execution_count": null,
   "id": "11a9cd86-0bd7-4f5c-abf0-6ff6d33c485c",
   "metadata": {},
   "outputs": [],
   "source": []
  }
 ],
 "metadata": {
  "kernelspec": {
   "display_name": "Python 3 (ipykernel)",
   "language": "python",
   "name": "python3"
  },
  "language_info": {
   "codemirror_mode": {
    "name": "ipython",
    "version": 3
   },
   "file_extension": ".py",
   "mimetype": "text/x-python",
   "name": "python",
   "nbconvert_exporter": "python",
   "pygments_lexer": "ipython3",
   "version": "3.7.10"
  }
 },
 "nbformat": 4,
 "nbformat_minor": 5
}
