{
 "cells": [
  {
   "cell_type": "markdown",
   "id": "78ebef97",
   "metadata": {},
   "source": [
    "# 预训练目标检测模型-预测摄像头实时画面\n",
    "\n",
    "调用MMDetection模型库中的预训练图像分类模型，调用本地摄像头，进行逐帧实时目标检测，显示带预测结果的实时画面。\n",
    "\n",
    "本代码需在`连接摄像头的本地`运行，不能在云GPU平台运行。\n",
    "\n",
    "同济子豪兄：https://space.bilibili.com/1900783\n",
    "\n",
    "测试运行环境：Macbook Pro\n",
    "\n",
    "2022-8-27"
   ]
  },
  {
   "cell_type": "markdown",
   "id": "e3f17858",
   "metadata": {},
   "source": [
    "## 打开终端，运行以下命令\n",
    "\n",
    "`cd mmdetection`\n",
    "\n",
    "```shell\n",
    "python demo/webcam_demo.py \\\n",
    "        configs/yolox/yolox_s_8x8_300e_coco.py \\\n",
    "   https://download.openmmlab.com/mmdetection/v2.0/yolox/yolox_s_8x8_300e_coco/yolox_s_8x8_300e_coco_20211121_095711-4592a793.pth \\\n",
    "        --device cpu \\\n",
    "        --camera-id 0 \\\n",
    "        --score-thr 0.3\n",
    "```"
   ]
  },
  {
   "cell_type": "code",
   "execution_count": null,
   "id": "4a78a24f-bb38-4a66-8ec2-fa92820ffc7e",
   "metadata": {},
   "outputs": [],
   "source": []
  },
  {
   "cell_type": "code",
   "execution_count": null,
   "id": "5d7eb9f9",
   "metadata": {},
   "outputs": [],
   "source": []
  }
 ],
 "metadata": {
  "kernelspec": {
   "display_name": "Python 3 (ipykernel)",
   "language": "python",
   "name": "python3"
  },
  "language_info": {
   "codemirror_mode": {
    "name": "ipython",
    "version": 3
   },
   "file_extension": ".py",
   "mimetype": "text/x-python",
   "name": "python",
   "nbconvert_exporter": "python",
   "pygments_lexer": "ipython3",
   "version": "3.7.10"
  }
 },
 "nbformat": 4,
 "nbformat_minor": 5
}
