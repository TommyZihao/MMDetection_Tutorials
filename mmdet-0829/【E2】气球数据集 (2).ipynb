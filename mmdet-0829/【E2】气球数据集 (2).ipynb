{
 "cells": [
  {
   "cell_type": "code",
   "execution_count": null,
   "id": "76694ad8-549d-4f99-aad3-35bde499c8eb",
   "metadata": {},
   "outputs": [],
   "source": []
  },
  {
   "cell_type": "markdown",
   "id": "ee8a8865-a4b9-4bd7-8594-c0f785d6f61a",
   "metadata": {
    "id": "7GrWIJywLV-V"
   },
   "source": [
    "## 在自定义数据集上训练检测模型\n",
    "\n",
    "训练新模型通常有三个步骤:\n",
    "1. 支持新数据集\n",
    "2. 修改配置文件\n",
    "3. 训练模型\n",
    "\n",
    "而MMDetection中有三种方法来支持新数据集: \n",
    "1. 将数据集整理为COCO格式\n",
    "2. 将数据集整理为中间格式\n",
    "3. 直接实现新数据集的支持\n",
    "\n",
    "\n",
    "我们将基于数据集[balloon dataset](http://www.cvlibs.net/datasets/kitti/eval_object.php?obj_benchmark=3d)，通过三种方法来完成本节教程。这是一个带有mask的数据集，其中训练集包含61张图片，验证集包含13张图片。其他方法以及进阶用法可以参考[doc](https://mmdetection.readthedocs.io/en/latest/tutorials/new_dataset.html#)。\n"
   ]
  },
  {
   "cell_type": "markdown",
   "id": "cf5bbd7b-1c46-4660-9596-305e717c2da8",
   "metadata": {},
   "source": [
    "## 进入 mmdetection 主目录"
   ]
  },
  {
   "cell_type": "code",
   "execution_count": null,
   "id": "07b95bd6-bc01-4475-adab-02a3ec4a454c",
   "metadata": {},
   "outputs": [],
   "source": [
    "import os\n",
    "os.chdir('mmdetection')"
   ]
  },
  {
   "cell_type": "markdown",
   "id": "3945da1f-d3a8-4f99-afb2-79a9d0f8fac7",
   "metadata": {
    "id": "I9lIVXsmAH4a"
   },
   "source": [
    "## 下载并观察气球数据集"
   ]
  },
  {
   "cell_type": "code",
   "execution_count": null,
   "id": "1a2b3623-83c5-4638-8f30-c2a482f57da4",
   "metadata": {
    "colab": {
     "base_uri": "https://localhost:8080/"
    },
    "executionInfo": {
     "elapsed": 28954,
     "status": "ok",
     "timestamp": 1619707017622,
     "user": {
      "displayName": "Leju Yu",
      "photoUrl": "",
      "userId": "02803640020004660259"
     },
     "user_tz": -480
    },
    "id": "F0iZe5Ovyd_0",
    "outputId": "e287634e-d89a-43e2-827b-e2f676acc455"
   },
   "outputs": [],
   "source": [
    "#下载并解压数据集\n",
    "!wget https://github.com/matterport/Mask_RCNN/releases/download/v2.1/balloon_dataset.zip\n",
    "!unzip balloon_dataset.zip > /dev/null"
   ]
  },
  {
   "cell_type": "code",
   "execution_count": null,
   "id": "9f2ead70-3e5a-4bf9-91d5-df7f543f1e37",
   "metadata": {
    "colab": {
     "base_uri": "https://localhost:8080/"
    },
    "executionInfo": {
     "elapsed": 11648,
     "status": "ok",
     "timestamp": 1619503163421,
     "user": {
      "displayName": "Yingfan Hu",
      "photoUrl": "",
      "userId": "05511228327870757093"
     },
     "user_tz": -480
    },
    "id": "Wuwxw1oZRtVZ",
    "outputId": "68567e11-71e0-4076-aa97-7bc14f0a1780"
   },
   "outputs": [],
   "source": [
    "!tree balloon"
   ]
  },
  {
   "cell_type": "code",
   "execution_count": null,
   "id": "377db8ab-c984-4711-b370-b3f3d7eab0f0",
   "metadata": {
    "colab": {
     "base_uri": "https://localhost:8080/",
     "height": 1000,
     "output_embedded_package_id": "1SkNR1JyVJzSVzKeXx0R1a17Ewtr4SOCi"
    },
    "executionInfo": {
     "elapsed": 27740,
     "status": "ok",
     "timestamp": 1619503183519,
     "user": {
      "displayName": "Yingfan Hu",
      "photoUrl": "",
      "userId": "05511228327870757093"
     },
     "user_tz": -480
    },
    "id": "YnQQqzOWzE91",
    "outputId": "9d93fd16-a3b5-4aa2-bb5b-f3af3712eda5"
   },
   "outputs": [],
   "source": [
    "# 简单查看数据集的图片\n",
    "from PIL import Image\n",
    "Image.open('balloon/val/14898532020_ba6199dd22_k.jpg')"
   ]
  },
  {
   "cell_type": "markdown",
   "id": "d2e6e793-7f50-41a2-9267-4d2f5a7d9e73",
   "metadata": {
    "id": "2dGmEUdIDW-T"
   },
   "source": [
    "这里我们以单张图像为例查看balloon数据集的标签json格式，可以看到标签包含基本的图像名，大小信息以及mask所在的区域。"
   ]
  },
  {
   "cell_type": "code",
   "execution_count": null,
   "id": "6f82789f-b014-445c-a2e1-9df4e4d8f6c3",
   "metadata": {
    "colab": {
     "base_uri": "https://localhost:8080/"
    },
    "executionInfo": {
     "elapsed": 25694,
     "status": "ok",
     "timestamp": 1619503183520,
     "user": {
      "displayName": "Yingfan Hu",
      "photoUrl": "",
      "userId": "05511228327870757093"
     },
     "user_tz": -480
    },
    "id": "n7rwalnPd6e1",
    "outputId": "eb03da5b-55f2-4edf-976c-6158c001c72a"
   },
   "outputs": [],
   "source": [
    "# 查看单张图片的标签格式\n",
    "import json\n",
    "\n",
    "with open('balloon/train/via_region_data.json') as f:\n",
    "    data = json.load(f)\n",
    "anno1 = list(data.keys())[0]\n",
    "print(anno1)\n",
    "print(json.dumps(data[anno1], indent=2))"
   ]
  },
  {
   "cell_type": "markdown",
   "id": "63e3c110-c8b6-4756-a8ad-3d69c3463298",
   "metadata": {
    "id": "1aetc5PnWab_"
   },
   "source": [
    "## 下载训练好的mask rcnn模型"
   ]
  },
  {
   "cell_type": "code",
   "execution_count": null,
   "id": "f195a0d9-fe73-4ed2-80ec-76bf141415dc",
   "metadata": {
    "colab": {
     "base_uri": "https://localhost:8080/"
    },
    "executionInfo": {
     "elapsed": 40231,
     "status": "ok",
     "timestamp": 1619707035882,
     "user": {
      "displayName": "Leju Yu",
      "photoUrl": "",
      "userId": "02803640020004660259"
     },
     "user_tz": -480
    },
    "id": "0Gqf1-g2WmJj",
    "outputId": "b821211d-3fa5-48cf-ff1c-21b010fb8497"
   },
   "outputs": [],
   "source": [
    "# 下载训练好的 Mask R CNN 模型到checkpoints文件夹\n",
    "!wget http://download.openmmlab.com/mmdetection/v2.0/mask_rcnn/mask_rcnn_r50_caffe_fpn_mstrain-poly_3x_coco/mask_rcnn_r50_caffe_fpn_mstrain-poly_3x_coco_bbox_mAP-0.408__segm_mAP-0.37_20200504_163245-42aa3d00.pth -P checkpoints\n"
   ]
  },
  {
   "cell_type": "markdown",
   "id": "b1a0e7ec-d574-477d-95a7-64859bcaeace",
   "metadata": {
    "id": "E73y5Lru-wBx"
   },
   "source": [
    "## 方法一：将数据集整理为COCO格式\n",
    "\n",
    "这里我们需要了解COCO数据集的格式，并将balloon的标注文件转换为coco格式。"
   ]
  },
  {
   "cell_type": "markdown",
   "id": "8df45bf0-7a39-4214-a480-fab9b0ea70ff",
   "metadata": {
    "id": "UAUnZ_WODcPs"
   },
   "source": [
    "### 查看COCO数据集格式\n",
    "\n",
    "对于实例分割来说，比较重要的COCO格式如下所示。\n",
    "\n",
    "更详细完整的格式说明可以参考[这里](https://cocodataset.org/#format-data)\n",
    "\n",
    "```python\n",
    "{\n",
    "    \"images\": [image],\n",
    "    \"annotations\": [annotation],\n",
    "    \"categories\": [category]\n",
    "}\n",
    "\n",
    "# 图像信息\n",
    "image = {\n",
    "    \"id\": int, #图像id\n",
    "    \"width\": int, #宽\n",
    "    \"height\": int, #高\n",
    "    \"file_name\": str, #图像文件名\n",
    "}\n",
    "\n",
    "#标注信息\n",
    "annotation = {\n",
    "    \"id\": int, #标注id   \n",
    "    \"image_id\": int, #对应的图像id\n",
    "    \"category_id\": int, #类别id\n",
    "    \"segmentation\": RLE or [polygon], #分割mask信息\n",
    "    \"area\": float, #mask面积\n",
    "    \"bbox\": [x,y,width,height], #边界框信息\n",
    "    \"iscrowd\": 0 or 1, #是否为密集图片\n",
    "}\n",
    "\n",
    "#类别信息\n",
    "categories = [{\n",
    "    \"id\": int, #类别id\n",
    "    \"name\": str, #类别名\n",
    "    \"supercategory\": str, #母类名称\n",
    "}]\n",
    "```"
   ]
  },
  {
   "cell_type": "markdown",
   "id": "7571ef97-746b-4b27-be54-72a574f0fbd2",
   "metadata": {
    "id": "yK4u-oW2GAG8"
   },
   "source": [
    "### 转换标注文件格式\n",
    "\n",
    "编写功能函数`convert_balloon_to_coco`完成格式转换。"
   ]
  },
  {
   "cell_type": "code",
   "execution_count": null,
   "id": "b342da2c-f5b6-441b-8c64-bd5202973a59",
   "metadata": {
    "colab": {
     "base_uri": "https://localhost:8080/"
    },
    "executionInfo": {
     "elapsed": 37469,
     "status": "ok",
     "timestamp": 1619707040747,
     "user": {
      "displayName": "Leju Yu",
      "photoUrl": "",
      "userId": "02803640020004660259"
     },
     "user_tz": -480
    },
    "id": "2slFGs3gGFLk",
    "outputId": "da9e3e90-04d1-426f-a671-57e806a8ac06"
   },
   "outputs": [],
   "source": [
    "import os.path as osp\n",
    "import mmcv\n",
    "\n",
    "def convert_balloon_to_coco(ann_file, out_file, image_prefix):\n",
    "    data_infos = mmcv.load(ann_file)\n",
    "\n",
    "    annotations = []\n",
    "    images = []\n",
    "    obj_count = 0\n",
    "    for idx, v in enumerate(mmcv.track_iter_progress(data_infos.values())):\n",
    "        filename = v['filename']\n",
    "        img_path = osp.join(image_prefix, filename)\n",
    "        height, width = mmcv.imread(img_path).shape[:2]\n",
    "\n",
    "        images.append(dict(\n",
    "            id=idx,\n",
    "            file_name=filename,\n",
    "            height=height,\n",
    "            width=width))\n",
    "\n",
    "        bboxes = []\n",
    "        labels = []\n",
    "        masks = []\n",
    "        for _, obj in v['regions'].items():\n",
    "            assert not obj['region_attributes']\n",
    "            obj = obj['shape_attributes']\n",
    "            px = obj['all_points_x']\n",
    "            py = obj['all_points_y']\n",
    "            poly = [(x + 0.5, y + 0.5) for x, y in zip(px, py)]\n",
    "            poly = [p for x in poly for p in x]\n",
    "\n",
    "            x_min, y_min, x_max, y_max = (\n",
    "                min(px), min(py), max(px), max(py))\n",
    "\n",
    "            data_anno = dict(\n",
    "                image_id=idx,\n",
    "                id=obj_count,\n",
    "                category_id=0,\n",
    "                bbox=[x_min, y_min, x_max - x_min, y_max - y_min],\n",
    "                area=(x_max - x_min) * (y_max - y_min),\n",
    "                segmentation=[poly],\n",
    "                iscrowd=0)\n",
    "            annotations.append(data_anno)\n",
    "            obj_count += 1\n",
    "\n",
    "    coco_format_json = dict(\n",
    "        images=images,\n",
    "        annotations=annotations,\n",
    "        categories=[{'id':0, 'name': 'balloon'}])\n",
    "    mmcv.dump(coco_format_json, out_file)\n",
    "convert_balloon_to_coco('balloon/train/via_region_data.json', 'balloon/train/coco.json', 'balloon/train')\n",
    "convert_balloon_to_coco('balloon/val/via_region_data.json', 'balloon/val/coco.json', 'balloon/val')"
   ]
  },
  {
   "cell_type": "code",
   "execution_count": null,
   "id": "63ccbe75-6db0-4ee9-a00e-ec5bc17642e4",
   "metadata": {
    "executionInfo": {
     "elapsed": 1239,
     "status": "ok",
     "timestamp": 1619708541450,
     "user": {
      "displayName": "Leju Yu",
      "photoUrl": "",
      "userId": "02803640020004660259"
     },
     "user_tz": -480
    },
    "id": "alMkrn0IJGon"
   },
   "outputs": [],
   "source": [
    "# import json\n",
    "\n",
    "# with open('balloon/val/coco.json') as f:\n",
    "#     data = json.load(f)\n",
    "\n",
    "# with open('coco.json', 'w') as f:\n",
    "#     json.dump(data, f, indent=4)"
   ]
  },
  {
   "cell_type": "markdown",
   "id": "a33e704f-9dc6-41dc-b845-b80d324bf0dc",
   "metadata": {
    "id": "H2M2ZF7NGm8p"
   },
   "source": [
    "### 修改 config 配置文件并保存"
   ]
  },
  {
   "cell_type": "code",
   "execution_count": null,
   "id": "ccda9b54-6a78-4f96-8bf7-258f9bfd642b",
   "metadata": {
    "colab": {
     "base_uri": "https://localhost:8080/"
    },
    "executionInfo": {
     "elapsed": 6713,
     "status": "ok",
     "timestamp": 1619665867640,
     "user": {
      "displayName": "Leju Yu",
      "photoUrl": "",
      "userId": "02803640020004660259"
     },
     "user_tz": -480
    },
    "id": "4fzwFF1cGWm-",
    "outputId": "07979c7c-54ea-4f79-a332-33a70270844e"
   },
   "outputs": [],
   "source": [
    "from mmcv import Config\n",
    "from mmdet.apis import set_random_seed\n",
    "\n",
    "# 获取基本配置文件参数\n",
    "cfg = Config.fromfile('./configs/mask_rcnn/mask_rcnn_r50_caffe_fpn_mstrain-poly_1x_coco.py')\n",
    "\n",
    "# 修改数据集类型以及文件路径\n",
    "cfg.dataset_type = 'COCODataset'\n",
    "cfg.data_root = 'balloon/'\n",
    "cfg.classes = ('balloon',)\n",
    "\n",
    "cfg.data.train.data_root = 'balloon/'\n",
    "cfg.data.train.ann_file = 'train/coco.json'\n",
    "cfg.data.train.img_prefix = 'train'\n",
    "cfg.data.train.classes = cfg.classes\n",
    "\n",
    "cfg.data.val.data_root = 'balloon/'\n",
    "cfg.data.val.ann_file = 'val/coco.json'\n",
    "cfg.data.val.img_prefix = 'val'\n",
    "cfg.data.val.classes = cfg.classes\n",
    "\n",
    "cfg.data.test.data_root = 'balloon/'\n",
    "cfg.data.test.ann_file = 'val/coco.json'\n",
    "cfg.data.test.img_prefix = 'val'\n",
    "cfg.data.test.classes = cfg.classes\n",
    "\n",
    "# 修改bbox_head和mask_head中的类别数\n",
    "cfg.model.roi_head.bbox_head.num_classes = 1\n",
    "cfg.model.roi_head.mask_head.num_classes = 1\n",
    "# 使用预训练好的faster rcnn模型用于finetuning\n",
    "cfg.load_from = 'checkpoints/mask_rcnn_r50_caffe_fpn_mstrain-poly_3x_coco_bbox_mAP-0.408__segm_mAP-0.37_20200504_163245-42aa3d00.pth'\n",
    "# 设置工作目录用于存放log和临时文件\n",
    "cfg.work_dir = 'work_dirs/balloon'\n",
    "\n",
    "# 原本的学习率是在8卡基础上训练设置的，现在单卡需要除以8\n",
    "cfg.optimizer.lr = 0.02 / 8\n",
    "cfg.lr_config.warmup = None\n",
    "cfg.log_config.interval = 10\n",
    "\n",
    "# # 设置evaluation间隔减少运行时间\n",
    "# cfg.evaluation.interval = 12\n",
    "# # 设置存档点间隔减少存储空间的消耗\n",
    "# cfg.checkpoint_config.interval = 12\n",
    "\n",
    "# 设置运行epoch数\n",
    "cfg.runner.max_epochs = 1\n",
    "\n",
    "# 固定随机种子使得结果可复现\n",
    "cfg.seed = 0\n",
    "set_random_seed(0, deterministic=False)\n",
    "cfg.gpu_ids = range(1)\n",
    "\n",
    "cfg.device = 'cuda'\n",
    "\n",
    "# 打印所有的配置参数\n",
    "# print(f'Config:\\n{cfg.pretty_text}')\n",
    "\n",
    "# 保存配置文件\n",
    "mmcv.mkdir_or_exist('work_dirs/balloon')\n",
    "cfg.dump('work_dirs/balloon/cocoformat.py')"
   ]
  },
  {
   "cell_type": "markdown",
   "id": "bba48d6e-154e-4f11-af12-7ee52a2e2f2f",
   "metadata": {
    "id": "9iM2JQYZWzp0"
   },
   "source": [
    "### 训练新模型"
   ]
  },
  {
   "cell_type": "code",
   "execution_count": null,
   "id": "155797b8-6818-44b1-b42a-a0fcdce4e6f8",
   "metadata": {},
   "outputs": [],
   "source": [
    "from mmdet.datasets import build_dataset\n",
    "from mmdet.models import build_detector\n",
    "from mmdet.apis import train_detector\n",
    "\n",
    "# 构建数据集\n",
    "datasets = [build_dataset(cfg.data.train)]\n",
    "\n",
    "# 构建检测模型\n",
    "model = build_detector(cfg.model)\n",
    "# 添加类别文字属性提高可视化效果\n",
    "model.CLASSES = datasets[0].CLASSES\n",
    "\n",
    "# 创建工作目录并训练模型\n",
    "mmcv.mkdir_or_exist(osp.abspath(cfg.work_dir))"
   ]
  },
  {
   "cell_type": "code",
   "execution_count": null,
   "id": "9f6b76b5-7499-4b6e-9023-b3800c1213ae",
   "metadata": {
    "colab": {
     "base_uri": "https://localhost:8080/"
    },
    "executionInfo": {
     "elapsed": 35106,
     "status": "ok",
     "timestamp": 1619665911343,
     "user": {
      "displayName": "Leju Yu",
      "photoUrl": "",
      "userId": "02803640020004660259"
     },
     "user_tz": -480
    },
    "id": "g9mcZjrSW905",
    "outputId": "779441b9-c94d-480a-f47a-78f17732b26b"
   },
   "outputs": [],
   "source": [
    "# 训练模型\n",
    "train_detector(model, datasets, cfg, distributed=False, validate=True)"
   ]
  },
  {
   "cell_type": "markdown",
   "id": "afe18ea0-6814-4719-b772-912fc0b50b79",
   "metadata": {
    "id": "rLTt2kH2YY-P"
   },
   "source": [
    "### 在测试集评价模型\n",
    "\n",
    "训练完模型后，需要对模型进行评价分析，这里可以用mmdet提供的test.py来直接运行。更多评价方法可以查看[这里](https://mmdetection.readthedocs.io/en/latest/1_exist_data_model.html)"
   ]
  },
  {
   "cell_type": "code",
   "execution_count": null,
   "id": "b39c0721-1747-4c5f-b691-e1587e19dd4c",
   "metadata": {
    "colab": {
     "base_uri": "https://localhost:8080/"
    },
    "executionInfo": {
     "elapsed": 12392,
     "status": "ok",
     "timestamp": 1619665946957,
     "user": {
      "displayName": "Leju Yu",
      "photoUrl": "",
      "userId": "02803640020004660259"
     },
     "user_tz": -480
    },
    "id": "5n62JruH9rdY",
    "outputId": "2667cc97-ee45-43b0-f3b6-6b0b10bdf622"
   },
   "outputs": [],
   "source": [
    "!python tools/test.py work_dirs/balloon/cocoformat.py work_dirs/balloon/latest.pth --eval bbox segm"
   ]
  },
  {
   "cell_type": "markdown",
   "id": "ba487e60-5e2a-491d-adcb-e96301227d86",
   "metadata": {
    "id": "ca6M5InoF2Yr"
   },
   "source": [
    "### 预测新图像"
   ]
  },
  {
   "cell_type": "code",
   "execution_count": null,
   "id": "d859d070-79a3-427d-a7cf-da78e6621177",
   "metadata": {
    "colab": {
     "base_uri": "https://localhost:8080/",
     "height": 759
    },
    "executionInfo": {
     "elapsed": 12418,
     "status": "ok",
     "timestamp": 1619665963224,
     "user": {
      "displayName": "Leju Yu",
      "photoUrl": "",
      "userId": "02803640020004660259"
     },
     "user_tz": -480
    },
    "id": "x3W1-_D1BYGW",
    "outputId": "e2f086b9-3313-4d8f-b151-75a55cde88b3"
   },
   "outputs": [],
   "source": [
    "from mmdet.apis import inference_detector, show_result_pyplot\n",
    "\n",
    "img = mmcv.imread('balloon/val/14898532020_ba6199dd22_k.jpg')\n",
    "\n",
    "model.cfg = cfg\n",
    "result = inference_detector(model, img)\n",
    "show_result_pyplot(model, img, result)"
   ]
  },
  {
   "cell_type": "code",
   "execution_count": null,
   "id": "40e3a224-2522-4b31-a827-2286a83a0c81",
   "metadata": {},
   "outputs": [],
   "source": [
    "result[0][0].shape"
   ]
  },
  {
   "cell_type": "code",
   "execution_count": null,
   "id": "d9159330-9ce4-4b09-b1b9-104e3369a84f",
   "metadata": {},
   "outputs": [],
   "source": [
    "len(result[1][0])"
   ]
  },
  {
   "cell_type": "code",
   "execution_count": null,
   "id": "91308b6b-7bd3-4458-95f9-b7d6b77457f4",
   "metadata": {},
   "outputs": [],
   "source": [
    "result[1][0][0].shape"
   ]
  },
  {
   "cell_type": "markdown",
   "id": "15698778-d97a-4479-9b66-c7d771fed1e4",
   "metadata": {
    "id": "JuF21F2rHOle",
    "tags": []
   },
   "source": [
    "## 方法二：将数据集转换为中间格式\n",
    "\n",
    "除了coco格式，mmdet还支持中间格式的定义。\n"
   ]
  },
  {
   "cell_type": "markdown",
   "id": "8f2790d6-621b-4696-8235-c97eeb697a1d",
   "metadata": {
    "id": "QA1pFg-FeO3l"
   },
   "source": [
    "#### 数据集中间格式\n",
    "\n",
    "```python\n",
    "[\n",
    "    {\n",
    "        'filename': 'a.jpg',\n",
    "        'width': 1280,\n",
    "        'height': 720,\n",
    "        'ann': {\n",
    "            'bboxes': <np.ndarray> (n, 4),\n",
    "            'labels': <np.ndarray> (n, ),\n",
    "            'bboxes_ignore': <np.ndarray> (k, 4), (optional field)\n",
    "            'labels_ignore': <np.ndarray> (k, 4) (optional field),\n",
    "            'masks': [poly]\n",
    "        }\n",
    "    },\n",
    "    ...\n",
    "]\n",
    "```\n",
    "我们需要根据上述中间类型来编写转换函数。"
   ]
  },
  {
   "cell_type": "markdown",
   "id": "dc5bbee3-3970-4642-9883-1ed3eaca2617",
   "metadata": {
    "id": "nw6z8ynZGprI"
   },
   "source": [
    "### 转换标注文件格式\n",
    "\n",
    "编写功能函数`convert_balloon_to_middle`完成格式转换。"
   ]
  },
  {
   "cell_type": "code",
   "execution_count": null,
   "id": "03006d89-078e-4501-ac07-7eecaf0946a2",
   "metadata": {
    "colab": {
     "base_uri": "https://localhost:8080/"
    },
    "executionInfo": {
     "elapsed": 4135,
     "status": "ok",
     "timestamp": 1619708521475,
     "user": {
      "displayName": "Leju Yu",
      "photoUrl": "",
      "userId": "02803640020004660259"
     },
     "user_tz": -480
    },
    "id": "U-SkIvoDHJpR",
    "outputId": "78e49e2d-aaf3-4088-ba33-189c5d2f3764"
   },
   "outputs": [],
   "source": [
    "import os.path as osp\n",
    "import numpy as np\n",
    "\n",
    "def convert_balloon_to_middle(ann_file, out_file, image_prefix):\n",
    "    data_infos = mmcv.load(ann_file)\n",
    "\n",
    "    middle_format = []\n",
    "    obj_count = 0\n",
    "    for idx, v in enumerate(mmcv.track_iter_progress(data_infos.values())):\n",
    "        filename = v['filename']\n",
    "        img_path = osp.join(image_prefix, filename)\n",
    "        height, width = mmcv.imread(img_path).shape[:2]\n",
    "\n",
    "        data_info = dict(filename=filename, width=width, height=height)\n",
    "\n",
    "        gt_bboxes = []\n",
    "        gt_labels = []\n",
    "        gt_masks_ann = []\n",
    "\n",
    "        for _, obj in v['regions'].items():\n",
    "            assert not obj['region_attributes']\n",
    "            obj = obj['shape_attributes']\n",
    "            px = obj['all_points_x']\n",
    "            py = obj['all_points_y']\n",
    "            poly = [(x + 0.5, y + 0.5) for x, y in zip(px, py)]\n",
    "            poly = [p for x in poly for p in x]\n",
    "\n",
    "            x_min, y_min, x_max, y_max = (\n",
    "                min(px), min(py), max(px), max(py))\n",
    "\n",
    "            bbox=[x_min, y_min, x_max, y_max]\n",
    "            label = 0\n",
    "            segmentation=[poly]\n",
    "            gt_bboxes.append(bbox)\n",
    "            gt_labels.append(label)\n",
    "            gt_masks_ann.append(segmentation)\n",
    "\n",
    "        data_anno = dict(\n",
    "            bboxes=np.array(gt_bboxes, dtype=np.float32).reshape(-1, 4),\n",
    "            labels=np.array(gt_labels, dtype=np.long),\n",
    "            # bboxes_ignore = np.zeros((0, 4), dtype=np.float32),\n",
    "            # masks=gt_masks_ann\n",
    "            )         \n",
    "     \n",
    "        data_info.update(ann=data_anno)\n",
    "        middle_format.append(data_info)\n",
    "\n",
    "    mmcv.dump(middle_format, out_file)\n",
    "convert_balloon_to_middle('balloon/train/via_region_data.json', 'balloon/train/middle.pkl', 'balloon/train')\n",
    "convert_balloon_to_middle('balloon/val/via_region_data.json', 'balloon/val/middle.pkl', 'balloon/val')"
   ]
  },
  {
   "cell_type": "code",
   "execution_count": null,
   "id": "76988f4d-785d-4954-8c80-c179a687d676",
   "metadata": {
    "colab": {
     "base_uri": "https://localhost:8080/"
    },
    "executionInfo": {
     "elapsed": 1072,
     "status": "ok",
     "timestamp": 1619516478281,
     "user": {
      "displayName": "Yingfan Hu",
      "photoUrl": "",
      "userId": "05511228327870757093"
     },
     "user_tz": -480
    },
    "id": "kqoyZQeGssxf",
    "outputId": "c74e1f0b-909a-4b72-a6a0-7fde68718df1"
   },
   "outputs": [],
   "source": [
    "# 查看单张图片的标签格式\n",
    "import json\n",
    "\n",
    "data = mmcv.load('balloon/train/middle.pkl')\n",
    "print(data[3])"
   ]
  },
  {
   "cell_type": "markdown",
   "id": "4eef7852-9c2c-48b2-ac56-92e986c92b09",
   "metadata": {
    "id": "0p8D4xqU5a7c"
   },
   "source": [
    "### 修改 config 配置并保存\n",
    "\n",
    "注意这里记得修改各个部分的数据集类型为`CustomDataset`、对应标注文件为`middle.pkl`、工作目录和配置文件中的部分为`middleformat`。"
   ]
  },
  {
   "cell_type": "code",
   "execution_count": null,
   "id": "22ac52f2-4396-4e7d-a031-4310e9960964",
   "metadata": {
    "colab": {
     "base_uri": "https://localhost:8080/"
    },
    "executionInfo": {
     "elapsed": 8024,
     "status": "ok",
     "timestamp": 1619707074226,
     "user": {
      "displayName": "Leju Yu",
      "photoUrl": "",
      "userId": "02803640020004660259"
     },
     "user_tz": -480
    },
    "id": "SEwH-ssoGzHk",
    "outputId": "6f272f91-4478-4945-eed7-cfa2a9fef512"
   },
   "outputs": [],
   "source": [
    "from mmcv import Config\n",
    "from mmdet.apis import set_random_seed\n",
    "\n",
    "# 获取基本配置文件参数\n",
    "# cfg = Config.fromfile('./configs/mask_rcnn/mask_rcnn_r50_caffe_fpn_mstrain-poly_1x_coco.py')\n",
    "cfg = Config.fromfile('./configs/faster_rcnn/faster_rcnn_r50_caffe_fpn_mstrain_1x_coco.py')\n",
    "\n",
    "# 修改数据集类型以及文件路径\n",
    "cfg.dataset_type = 'CustomDataset'\n",
    "cfg.data_root = 'balloon/'\n",
    "cfg.classes = ('balloon',)\n",
    "\n",
    "cfg.data.train.type = 'CustomDataset'\n",
    "cfg.data.train.data_root = 'balloon/'\n",
    "cfg.data.train.ann_file = 'train/middle.pkl'\n",
    "cfg.data.train.img_prefix = 'train'\n",
    "cfg.data.train.classes = cfg.classes\n",
    "\n",
    "cfg.data.val.type = 'CustomDataset'\n",
    "cfg.data.val.data_root = 'balloon/'\n",
    "cfg.data.val.ann_file = 'val/middle.pkl'\n",
    "cfg.data.val.img_prefix = 'val'\n",
    "cfg.data.val.classes = cfg.classes\n",
    "\n",
    "cfg.data.test.type = 'CustomDataset'\n",
    "cfg.data.test.data_root = 'balloon/'\n",
    "cfg.data.test.ann_file = 'val/middle.pkl'\n",
    "cfg.data.test.img_prefix = 'val'\n",
    "cfg.data.test.classes = cfg.classes\n",
    "\n",
    "# 修改bbox_head和mask_head中的类别数\n",
    "cfg.model.roi_head.bbox_head.num_classes = 1\n",
    "# cfg.model.roi_head.mask_head.num_classes = 1\n",
    "# 使用预训练好的faster rcnn模型用于finetuning\n",
    "cfg.load_from = 'checkpoints/mask_rcnn_r50_caffe_fpn_mstrain-poly_3x_coco_bbox_mAP-0.408__segm_mAP-0.37_20200504_163245-42aa3d00.pth'\n",
    "# 设置工作目录用于存放log和临时文件\n",
    "cfg.work_dir = 'work_dirs/balloon/middleformat'\n",
    "\n",
    "# 原本的学习率是在8卡基础上训练设置的，现在单卡需要除以8\n",
    "cfg.optimizer.lr = 0.02 / 8\n",
    "cfg.lr_config.warmup = None\n",
    "cfg.log_config.interval = 10\n",
    "\n",
    "# 由于是自定义数据集，需要修改评价方法\n",
    "cfg.evaluation.metric = 'mAP'\n",
    "# # 设置evaluation间隔减少运行时间\n",
    "# cfg.evaluation.interval = 12\n",
    "# # 设置存档点间隔减少存储空间的消耗\n",
    "# cfg.checkpoint_config.interval = 12\n",
    "\n",
    "# 设置运行epoch数\n",
    "cfg.runner.max_epochs = 1\n",
    "\n",
    "# 固定随机种子使得结果可复现\n",
    "cfg.seed = 0\n",
    "set_random_seed(0, deterministic=False)\n",
    "cfg.gpu_ids = range(1)\n",
    "\n",
    "cfg.device = 'cuda'\n",
    "\n",
    "# 打印所有的配置参数\n",
    "# print(f'Config:\\n{cfg.pretty_text}')\n",
    "\n",
    "# 保存配置文件\n",
    "mmcv.mkdir_or_exist('work_dirs/balloon/middleformat')\n",
    "cfg.dump('work_dirs/balloon/middleformat/middleformat.py')"
   ]
  },
  {
   "cell_type": "markdown",
   "id": "e2274f43-02b0-4cd8-91bd-07ee5c69d38d",
   "metadata": {
    "id": "c5uXqxsETHIV"
   },
   "source": [
    "### 训练新模型\n",
    "\n",
    "这里需要根据配置文件构建数据集，检测模型并完成训练。"
   ]
  },
  {
   "cell_type": "code",
   "execution_count": null,
   "id": "e7d66285-2e7d-4138-b506-70e186848f92",
   "metadata": {},
   "outputs": [],
   "source": [
    "from mmdet.datasets import build_dataset\n",
    "from mmdet.models import build_detector\n",
    "from mmdet.apis import train_detector\n",
    "\n",
    "# 构建数据集\n",
    "datasets = [build_dataset(cfg.data.train)]\n",
    "\n",
    "# 构建检测模型\n",
    "model = build_detector(cfg.model)\n",
    "# 添加类别文字属性提高可视化效果\n",
    "model.CLASSES = datasets[0].CLASSES\n",
    "\n",
    "# 创建工作目录并训练模型\n",
    "mmcv.mkdir_or_exist(osp.abspath(cfg.work_dir))"
   ]
  },
  {
   "cell_type": "code",
   "execution_count": null,
   "id": "8d6a318d-3acf-45e6-9091-fca9f5133c33",
   "metadata": {
    "colab": {
     "base_uri": "https://localhost:8080/"
    },
    "executionInfo": {
     "elapsed": 22086,
     "status": "ok",
     "timestamp": 1619666886924,
     "user": {
      "displayName": "Leju Yu",
      "photoUrl": "",
      "userId": "02803640020004660259"
     },
     "user_tz": -480
    },
    "id": "7WBWHu010PN3",
    "outputId": "353ed931-b2b3-41c7-bcaf-ce8a632db99b"
   },
   "outputs": [],
   "source": [
    "# 训练模型\n",
    "train_detector(model, datasets, cfg, distributed=False, validate=True)"
   ]
  },
  {
   "cell_type": "markdown",
   "id": "23a99476-2d5a-42a4-a2e8-a75ef520ee06",
   "metadata": {
    "id": "juA1FBeuTKP5"
   },
   "source": [
    "### 测试集上评价模型"
   ]
  },
  {
   "cell_type": "code",
   "execution_count": null,
   "id": "114e09d1-3569-4341-ac1b-8a1eb380125a",
   "metadata": {
    "colab": {
     "base_uri": "https://localhost:8080/"
    },
    "executionInfo": {
     "elapsed": 30324,
     "status": "ok",
     "timestamp": 1619666897650,
     "user": {
      "displayName": "Leju Yu",
      "photoUrl": "",
      "userId": "02803640020004660259"
     },
     "user_tz": -480
    },
    "id": "Qtzdd1cLMq_S",
    "outputId": "ed5490c4-f189-4aff-e52d-ecc4f09a201f"
   },
   "outputs": [],
   "source": [
    "!python tools/test.py work_dirs/balloon/middleformat/middleformat.py work_dirs/balloon/middleformat/latest.pth --eval mAP"
   ]
  },
  {
   "cell_type": "markdown",
   "id": "5f693ac9-d70c-45c0-b033-eaf7228def81",
   "metadata": {},
   "source": [
    "### 预测新图像"
   ]
  },
  {
   "cell_type": "code",
   "execution_count": null,
   "id": "41b925c2-2647-4c30-b053-bf988261042e",
   "metadata": {
    "colab": {
     "base_uri": "https://localhost:8080/",
     "height": 759
    },
    "executionInfo": {
     "elapsed": 40276,
     "status": "ok",
     "timestamp": 1619666908576,
     "user": {
      "displayName": "Leju Yu",
      "photoUrl": "",
      "userId": "02803640020004660259"
     },
     "user_tz": -480
    },
    "id": "4a0-nLpEMwfP",
    "outputId": "9ff80a35-7547-44db-c1b3-e0da60382c35"
   },
   "outputs": [],
   "source": [
    "from mmdet.apis import inference_detector, show_result_pyplot\n",
    "\n",
    "img = mmcv.imread('balloon/val/14898532020_ba6199dd22_k.jpg')\n",
    "\n",
    "model.cfg = cfg\n",
    "result = inference_detector(model, img)\n",
    "\n",
    "show_result_pyplot(model, img, result)"
   ]
  },
  {
   "cell_type": "markdown",
   "id": "a821d4f9-be76-4796-b346-df4422d11712",
   "metadata": {
    "id": "0JGGbWWoIGaB"
   },
   "source": [
    "## 方法三：直接实现新数据集的支持"
   ]
  },
  {
   "cell_type": "markdown",
   "id": "34c4511f-27e3-4ebf-8b0f-1e42e8d918f4",
   "metadata": {},
   "source": [
    "在`mmdet/datasets`新建`BalloonDataset.py`文件，填充内容如下：\n",
    "\n",
    "并在`mmdet/datasets/__init__.py`中，增加`from .BalloonDataset import BalloonDataset`"
   ]
  },
  {
   "cell_type": "code",
   "execution_count": null,
   "id": "4c5df927-d969-4582-97df-498ef16e2bc1",
   "metadata": {
    "id": "GdSaB2ad0EdX"
   },
   "outputs": [],
   "source": [
    "# mmdet/datasets/BalloonDataset.py\n",
    "\n",
    "import copy\n",
    "import os.path as osp\n",
    "\n",
    "import mmcv\n",
    "import numpy as np\n",
    "\n",
    "from mmdet.datasets.builder import DATASETS\n",
    "from mmdet.datasets.custom import CustomDataset\n",
    "\n",
    "@DATASETS.register_module()\n",
    "class BalloonDataset(CustomDataset):\n",
    "\n",
    "    CLASSES = ('balloon',)\n",
    "\n",
    "    def load_annotations(self, ann_file):\n",
    "        data_infos = mmcv.load(self.ann_file)\n",
    "\n",
    "        middle_format = []\n",
    "        obj_count = 0\n",
    "        for idx, v in enumerate(mmcv.track_iter_progress(data_infos.values())):\n",
    "            filename = v['filename']\n",
    "            img_path = osp.join(self.img_prefix, filename)\n",
    "            height, width = mmcv.imread(img_path).shape[:2]\n",
    "\n",
    "            data_info = dict(filename=filename, width=width, height=height)\n",
    "\n",
    "            gt_bboxes = []\n",
    "            gt_labels = []\n",
    "            gt_masks_ann = []\n",
    "\n",
    "            for _, obj in v['regions'].items():\n",
    "                assert not obj['region_attributes']\n",
    "                obj = obj['shape_attributes']\n",
    "                px = obj['all_points_x']\n",
    "                py = obj['all_points_y']\n",
    "                poly = [(x + 0.5, y + 0.5) for x, y in zip(px, py)]\n",
    "                poly = [p for x in poly for p in x]\n",
    "\n",
    "                x_min, y_min, x_max, y_max = (\n",
    "                    min(px), min(py), max(px), max(py))\n",
    "\n",
    "                bbox=[x_min, y_min, x_max, y_max]\n",
    "                label = 0\n",
    "                segmentation=[poly]\n",
    "                gt_bboxes.append(bbox)\n",
    "                gt_labels.append(label)\n",
    "                gt_masks_ann.append(segmentation)\n",
    "\n",
    "            data_anno = dict(\n",
    "                bboxes=np.array(gt_bboxes, dtype=np.float32).reshape(-1, 4),\n",
    "                labels=np.array(gt_labels, dtype=np.long),\n",
    "                # bboxes_ignore = np.zeros((0, 4), dtype=np.float32),\n",
    "                # masks=gt_masks_ann\n",
    "                )         \n",
    "        \n",
    "            data_info.update(ann=data_anno)\n",
    "            middle_format.append(data_info)\n",
    "\n",
    "        return middle_format"
   ]
  },
  {
   "cell_type": "markdown",
   "id": "9e176d3d-577f-4466-9e41-e0f429aa6ab6",
   "metadata": {
    "id": "mZcasm6mQ4nM"
   },
   "source": [
    "### 修改config配置文件并保存\n",
    "\n",
    "这里同样注意修改数据集类型，标注文件名以及工作目录和配置文件存储路径等"
   ]
  },
  {
   "cell_type": "code",
   "execution_count": null,
   "id": "85fbcff8-90aa-42cf-9ea5-85273469dd38",
   "metadata": {
    "colab": {
     "base_uri": "https://localhost:8080/"
    },
    "executionInfo": {
     "elapsed": 8300,
     "status": "ok",
     "timestamp": 1619666909133,
     "user": {
      "displayName": "Leju Yu",
      "photoUrl": "",
      "userId": "02803640020004660259"
     },
     "user_tz": -480
    },
    "id": "Gax3-zHEyj1Y",
    "outputId": "210d738e-fd3d-439e-c98a-7e03c89651f3"
   },
   "outputs": [],
   "source": [
    "from mmcv import Config\n",
    "from mmdet.apis import set_random_seed\n",
    "\n",
    "# 获取基本配置文件参数\n",
    "# cfg = Config.fromfile('./configs/mask_rcnn/mask_rcnn_r50_caffe_fpn_mstrain-poly_1x_coco.py')\n",
    "cfg = Config.fromfile('./configs/faster_rcnn/faster_rcnn_r50_caffe_fpn_mstrain_1x_coco.py')\n",
    "\n",
    "# 修改数据集类型以及文件路径\n",
    "cfg.dataset_type = 'BalloonDataset'\n",
    "cfg.data_root = 'balloon/'\n",
    "\n",
    "cfg.data.train.type = 'BalloonDataset'\n",
    "cfg.data.train.data_root = 'balloon/'\n",
    "cfg.data.train.ann_file = 'train/via_region_data.json'\n",
    "cfg.data.train.img_prefix = 'train'\n",
    "\n",
    "cfg.data.val.type = 'BalloonDataset'\n",
    "cfg.data.val.data_root = 'balloon/'\n",
    "cfg.data.val.ann_file = 'val/via_region_data.json'\n",
    "cfg.data.val.img_prefix = 'val'\n",
    "\n",
    "cfg.data.test.type = 'BalloonDataset'\n",
    "cfg.data.test.data_root = 'balloon/'\n",
    "cfg.data.test.ann_file = 'val/via_region_data.json'\n",
    "cfg.data.test.img_prefix = 'val'\n",
    "\n",
    "# 修改bbox_head和mask_head中的类别数\n",
    "cfg.model.roi_head.bbox_head.num_classes = 1\n",
    "# cfg.model.roi_head.mask_head.num_classes = 1\n",
    "# 使用预训练好的faster rcnn模型用于finetuning\n",
    "cfg.load_from = 'checkpoints/mask_rcnn_r50_caffe_fpn_mstrain-poly_3x_coco_bbox_mAP-0.408__segm_mAP-0.37_20200504_163245-42aa3d00.pth'\n",
    "# 设置工作目录用于存放log和临时文件\n",
    "cfg.work_dir = 'work_dirs/balloon/newdataset'\n",
    "\n",
    "# 原本的学习率是在8卡基础上训练设置的，现在单卡需要除以8\n",
    "cfg.optimizer.lr = 0.02 / 8\n",
    "cfg.lr_config.warmup = None\n",
    "cfg.log_config.interval = 10\n",
    "\n",
    "# 由于是自定义数据集，需要修改评价方法\n",
    "cfg.evaluation.metric = 'mAP'\n",
    "# # 设置evaluation间隔减少运行时间\n",
    "# cfg.evaluation.interval = 12\n",
    "# # 设置存档点间隔减少存储空间的消耗\n",
    "# cfg.checkpoint_config.interval = 12\n",
    "\n",
    "# 设置运行epoch数\n",
    "cfg.runner.max_epochs = 1\n",
    "\n",
    "# 固定随机种子使得结果可复现\n",
    "cfg.seed = 0\n",
    "set_random_seed(0, deterministic=False)\n",
    "cfg.gpu_ids = range(1)\n",
    "\n",
    "cfg.device = 'cuda'\n",
    "\n",
    "# 打印所有的配置参数\n",
    "# print(f'Config:\\n{cfg.pretty_text}')\n",
    "\n",
    "# 保存配置文件\n",
    "mmcv.mkdir_or_exist('work_dirs/balloon/newdataset')\n",
    "cfg.dump('work_dirs/balloon/newdataset/newdataset.py')"
   ]
  },
  {
   "cell_type": "markdown",
   "id": "1b2a2650-3bb2-4972-b0c2-cf08980fd1f3",
   "metadata": {
    "id": "111W_oZV_3wa"
   },
   "source": [
    "### 训练新模型"
   ]
  },
  {
   "cell_type": "code",
   "execution_count": null,
   "id": "258d48a8-ffcb-44f2-acaf-4762ffce5b4d",
   "metadata": {},
   "outputs": [],
   "source": [
    "from mmdet.datasets import build_dataset\n",
    "from mmdet.models import build_detector\n",
    "from mmdet.apis import train_detector\n",
    "\n",
    "# 构建数据集\n",
    "datasets = [build_dataset(cfg.data.train)]\n",
    "\n",
    "# 构建检测模型\n",
    "model = build_detector(cfg.model)\n",
    "# 添加类别文字属性提高可视化效果\n",
    "model.CLASSES = datasets[0].CLASSES\n",
    "\n",
    "# 创建工作目录并训练模型\n",
    "mmcv.mkdir_or_exist(osp.abspath(cfg.work_dir))"
   ]
  },
  {
   "cell_type": "code",
   "execution_count": null,
   "id": "67e880e2-3484-474f-886a-25898e1feccc",
   "metadata": {
    "colab": {
     "base_uri": "https://localhost:8080/"
    },
    "executionInfo": {
     "elapsed": 27585,
     "status": "ok",
     "timestamp": 1619666928428,
     "user": {
      "displayName": "Leju Yu",
      "photoUrl": "",
      "userId": "02803640020004660259"
     },
     "user_tz": -480
    },
    "id": "stuhtUucJ-wD",
    "outputId": "e142776f-c14f-4ba8-cebf-852d36eeecd0"
   },
   "outputs": [],
   "source": [
    "# 训练模型\n",
    "train_detector(model, datasets, cfg, distributed=False, validate=True)"
   ]
  },
  {
   "cell_type": "markdown",
   "id": "ffa52f0e-b8b0-42ed-a91e-3b397870a6d0",
   "metadata": {
    "id": "MfQ-yspZLuuI"
   },
   "source": [
    "### 测试集上评价模型"
   ]
  },
  {
   "cell_type": "code",
   "execution_count": null,
   "id": "07da0dec-f7a1-4e53-a555-17123ef1fdc2",
   "metadata": {
    "colab": {
     "base_uri": "https://localhost:8080/"
    },
    "executionInfo": {
     "elapsed": 35993,
     "status": "ok",
     "timestamp": 1619666939084,
     "user": {
      "displayName": "Leju Yu",
      "photoUrl": "",
      "userId": "02803640020004660259"
     },
     "user_tz": -480
    },
    "id": "TLz4Hd8a2aeP",
    "outputId": "22b1ee7c-0db1-4443-fcbb-4de0130bc93c"
   },
   "outputs": [],
   "source": [
    "!python tools/test.py work_dirs/ballon/newdataset/newdataset.py work_dirs/ballon/newdataset/latest.pth --eval mAP"
   ]
  },
  {
   "cell_type": "markdown",
   "id": "b365ba7d-33b8-4ce8-b83c-11d53badae35",
   "metadata": {},
   "source": [
    "### 预测新图像"
   ]
  },
  {
   "cell_type": "code",
   "execution_count": null,
   "id": "cc77e019-fb60-4f88-be8a-363711687c3d",
   "metadata": {
    "colab": {
     "base_uri": "https://localhost:8080/",
     "height": 759
    },
    "executionInfo": {
     "elapsed": 33277,
     "status": "ok",
     "timestamp": 1619666950000,
     "user": {
      "displayName": "Leju Yu",
      "photoUrl": "",
      "userId": "02803640020004660259"
     },
     "user_tz": -480
    },
    "id": "K5x_EzHN2e2z",
    "outputId": "ef91c076-2509-4962-b817-ebaecf058861"
   },
   "outputs": [],
   "source": [
    "from mmdet.apis import inference_detector, show_result_pyplot\n",
    "\n",
    "img = mmcv.imread('balloon/val/14898532020_ba6199dd22_k.jpg')\n",
    "\n",
    "model.cfg = cfg\n",
    "result = inference_detector(model, img)\n",
    "\n",
    "show_result_pyplot(model, img, result)"
   ]
  },
  {
   "cell_type": "code",
   "execution_count": null,
   "id": "46c027b9-b97b-407b-b568-87b56128b30d",
   "metadata": {},
   "outputs": [],
   "source": []
  }
 ],
 "metadata": {
  "kernelspec": {
   "display_name": "",
   "name": ""
  },
  "language_info": {
   "name": ""
  }
 },
 "nbformat": 4,
 "nbformat_minor": 5
}
