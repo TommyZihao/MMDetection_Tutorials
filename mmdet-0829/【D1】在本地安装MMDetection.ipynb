{
 "cells": [
  {
   "cell_type": "markdown",
   "id": "c3f0537a",
   "metadata": {},
   "source": [
    "# 在本地安装 MMClassification 环境\n",
    "\n",
    "本教程以 Macbook Pro 为例\n",
    "\n",
    "同济子豪兄 2022-8-16"
   ]
  },
  {
   "cell_type": "markdown",
   "id": "033be292",
   "metadata": {},
   "source": [
    "## 安装 mmcv"
   ]
  },
  {
   "cell_type": "markdown",
   "id": "a5beb309",
   "metadata": {},
   "source": [
    "在 mac 上安装 mmcv -full：https://openmmlab.feishu.cn/docs/doccnJd89XfYFB9Q3x8oJFGYG2b"
   ]
  },
  {
   "cell_type": "code",
   "execution_count": 16,
   "id": "5c3f527b",
   "metadata": {},
   "outputs": [
    {
     "name": "stdout",
     "output_type": "stream",
     "text": [
      "Looking in indexes: https://mirrors.aliyun.com/pypi/simple/\n",
      "Collecting mmcv-full==1.5.0\n",
      "  Downloading https://mirrors.aliyun.com/pypi/packages/29/26/46588ebfc79b653aa67851c16b2f29a365116db3ead59d09c6aea5416e9d/mmcv-full-1.5.0.tar.gz (530 kB)\n",
      "     |████████████████████████████████| 530 kB 2.5 MB/s            \n",
      "\u001b[?25h  Preparing metadata (setup.py) ... \u001b[?25ldone\n",
      "\u001b[?25hRequirement already satisfied: addict in /Users/tommy/opt/anaconda3/envs/open-mmlab/lib/python3.7/site-packages (from mmcv-full==1.5.0) (2.4.0)\n",
      "Requirement already satisfied: numpy in /Users/tommy/opt/anaconda3/envs/open-mmlab/lib/python3.7/site-packages (from mmcv-full==1.5.0) (1.21.6)\n",
      "Requirement already satisfied: packaging in /Users/tommy/opt/anaconda3/envs/open-mmlab/lib/python3.7/site-packages (from mmcv-full==1.5.0) (21.3)\n",
      "Requirement already satisfied: Pillow in /Users/tommy/opt/anaconda3/envs/open-mmlab/lib/python3.7/site-packages (from mmcv-full==1.5.0) (8.4.0)\n",
      "Requirement already satisfied: pyyaml in /Users/tommy/opt/anaconda3/envs/open-mmlab/lib/python3.7/site-packages (from mmcv-full==1.5.0) (6.0)\n",
      "Requirement already satisfied: yapf in /Users/tommy/opt/anaconda3/envs/open-mmlab/lib/python3.7/site-packages (from mmcv-full==1.5.0) (0.31.0)\n",
      "Requirement already satisfied: pyparsing!=3.0.5,>=2.0.2 in /Users/tommy/opt/anaconda3/envs/open-mmlab/lib/python3.7/site-packages (from packaging->mmcv-full==1.5.0) (3.0.6)\n",
      "Building wheels for collected packages: mmcv-full\n",
      "  Building wheel for mmcv-full (setup.py) ... \u001b[?25ldone\n",
      "\u001b[?25h  Created wheel for mmcv-full: filename=mmcv_full-1.5.0-cp37-cp37m-macosx_10_9_x86_64.whl size=1289983 sha256=441cfc419dc118ff99f7f766f6926af8bf3ce946e16c7a03907dd3184677b6b1\n",
      "  Stored in directory: /Users/tommy/Library/Caches/pip/wheels/6b/aa/59/25309b93c3a5f6de2269fa6daecaa2b3e9eff108b2f1fd6e74\n",
      "Successfully built mmcv-full\n",
      "Installing collected packages: mmcv-full\n",
      "Successfully installed mmcv-full-1.5.0\n"
     ]
    }
   ],
   "source": [
    "!pip install mmcv-full==1.5.0"
   ]
  },
  {
   "cell_type": "code",
   "execution_count": 17,
   "id": "8e4106dd",
   "metadata": {},
   "outputs": [
    {
     "data": {
      "text/plain": [
       "'1.5.0'"
      ]
     },
     "execution_count": 17,
     "metadata": {},
     "output_type": "execute_result"
    }
   ],
   "source": [
    "import mmcv\n",
    "mmcv.__version__"
   ]
  },
  {
   "cell_type": "markdown",
   "id": "0cbc6dfa",
   "metadata": {},
   "source": [
    "## 进入openmmlab虚拟环境（如有）"
   ]
  },
  {
   "cell_type": "code",
   "execution_count": 1,
   "id": "33eee3a4",
   "metadata": {},
   "outputs": [
    {
     "name": "stdout",
     "output_type": "stream",
     "text": [
      "\r\n",
      "CommandNotFoundError: Your shell has not been properly configured to use 'conda activate'.\r\n",
      "To initialize your shell, run\r\n",
      "\r\n",
      "    $ conda init <SHELL_NAME>\r\n",
      "\r\n",
      "Currently supported shells are:\r\n",
      "  - bash\r\n",
      "  - fish\r\n",
      "  - tcsh\r\n",
      "  - xonsh\r\n",
      "  - zsh\r\n",
      "  - powershell\r\n",
      "\r\n",
      "See 'conda init --help' for more information and options.\r\n",
      "\r\n",
      "IMPORTANT: You may need to close and restart your shell after running 'conda init'.\r\n",
      "\r\n",
      "\r\n"
     ]
    }
   ],
   "source": [
    "!conda activate open-mmlab"
   ]
  },
  {
   "cell_type": "code",
   "execution_count": 4,
   "id": "d1a9082e",
   "metadata": {},
   "outputs": [],
   "source": [
    "import os\n",
    "import mmcv"
   ]
  },
  {
   "cell_type": "markdown",
   "id": "44a265e5",
   "metadata": {},
   "source": [
    "## 从Github下载最新版 mmdetection"
   ]
  },
  {
   "cell_type": "code",
   "execution_count": 5,
   "id": "6ffd34fc",
   "metadata": {},
   "outputs": [],
   "source": [
    "# 删除已有的 mmdetection 文件夹（若有）\n",
    "!rm -rf mmdetection"
   ]
  },
  {
   "cell_type": "code",
   "execution_count": 7,
   "id": "8961b8e2",
   "metadata": {},
   "outputs": [],
   "source": [
    "# 从 Github下载 MMDetection 算法库\n",
    "!git clone https://github.com/open-mmlab/mmdetection.git"
   ]
  },
  {
   "cell_type": "code",
   "execution_count": 9,
   "id": "9ea54fd7",
   "metadata": {},
   "outputs": [],
   "source": [
    "# 进入 mmpose 目录\n",
    "os.chdir('mmdetection')"
   ]
  },
  {
   "cell_type": "code",
   "execution_count": 10,
   "id": "58ae41f4",
   "metadata": {},
   "outputs": [
    {
     "name": "stdout",
     "output_type": "stream",
     "text": [
      "Looking in indexes: https://mirrors.aliyun.com/pypi/simple/\n",
      "Obtaining file:///Users/tommy/Desktop/pytorch/mmdetection/mmdetection\n",
      "  Preparing metadata (setup.py) ... \u001b[?25ldone\n",
      "\u001b[?25hRequirement already satisfied: matplotlib in /Users/tommy/opt/anaconda3/envs/open-mmlab/lib/python3.7/site-packages (from mmdet==2.25.1) (3.5.0)\n",
      "Requirement already satisfied: numpy in /Users/tommy/opt/anaconda3/envs/open-mmlab/lib/python3.7/site-packages (from mmdet==2.25.1) (1.21.6)\n",
      "Requirement already satisfied: pycocotools in /Users/tommy/opt/anaconda3/envs/open-mmlab/lib/python3.7/site-packages (from mmdet==2.25.1) (2.0.3)\n",
      "Requirement already satisfied: six in /Users/tommy/opt/anaconda3/envs/open-mmlab/lib/python3.7/site-packages (from mmdet==2.25.1) (1.16.0)\n",
      "Requirement already satisfied: terminaltables in /Users/tommy/opt/anaconda3/envs/open-mmlab/lib/python3.7/site-packages (from mmdet==2.25.1) (3.1.10)\n",
      "Requirement already satisfied: cycler>=0.10 in /Users/tommy/opt/anaconda3/envs/open-mmlab/lib/python3.7/site-packages (from matplotlib->mmdet==2.25.1) (0.11.0)\n",
      "Requirement already satisfied: packaging>=20.0 in /Users/tommy/opt/anaconda3/envs/open-mmlab/lib/python3.7/site-packages (from matplotlib->mmdet==2.25.1) (21.3)\n",
      "Requirement already satisfied: kiwisolver>=1.0.1 in /Users/tommy/opt/anaconda3/envs/open-mmlab/lib/python3.7/site-packages (from matplotlib->mmdet==2.25.1) (1.3.2)\n",
      "Requirement already satisfied: pyparsing>=2.2.1 in /Users/tommy/opt/anaconda3/envs/open-mmlab/lib/python3.7/site-packages (from matplotlib->mmdet==2.25.1) (3.0.6)\n",
      "Requirement already satisfied: pillow>=6.2.0 in /Users/tommy/opt/anaconda3/envs/open-mmlab/lib/python3.7/site-packages (from matplotlib->mmdet==2.25.1) (8.4.0)\n",
      "Requirement already satisfied: fonttools>=4.22.0 in /Users/tommy/opt/anaconda3/envs/open-mmlab/lib/python3.7/site-packages (from matplotlib->mmdet==2.25.1) (4.28.3)\n",
      "Requirement already satisfied: setuptools-scm>=4 in /Users/tommy/opt/anaconda3/envs/open-mmlab/lib/python3.7/site-packages (from matplotlib->mmdet==2.25.1) (6.3.2)\n",
      "Requirement already satisfied: python-dateutil>=2.7 in /Users/tommy/opt/anaconda3/envs/open-mmlab/lib/python3.7/site-packages (from matplotlib->mmdet==2.25.1) (2.8.2)\n",
      "Requirement already satisfied: setuptools>=18.0 in /Users/tommy/opt/anaconda3/envs/open-mmlab/lib/python3.7/site-packages (from pycocotools->mmdet==2.25.1) (59.4.0)\n",
      "Requirement already satisfied: cython>=0.27.3 in /Users/tommy/opt/anaconda3/envs/open-mmlab/lib/python3.7/site-packages (from pycocotools->mmdet==2.25.1) (0.29.25)\n",
      "Requirement already satisfied: tomli>=1.0.0 in /Users/tommy/opt/anaconda3/envs/open-mmlab/lib/python3.7/site-packages (from setuptools-scm>=4->matplotlib->mmdet==2.25.1) (1.2.2)\n",
      "Installing collected packages: mmdet\n",
      "  Attempting uninstall: mmdet\n",
      "    Found existing installation: mmdet 2.19.0\n",
      "    Uninstalling mmdet-2.19.0:\n",
      "      Successfully uninstalled mmdet-2.19.0\n",
      "  Running setup.py develop for mmdet\n",
      "Successfully installed mmdet-2.25.1\n"
     ]
    }
   ],
   "source": [
    "# Mac电脑\n",
    "!CC=clang CXX=clang++ CFLAGS='-stdlib=libc++' pip install -e ."
   ]
  },
  {
   "cell_type": "markdown",
   "id": "632af888",
   "metadata": {},
   "source": [
    "## 验证安装成功"
   ]
  },
  {
   "cell_type": "code",
   "execution_count": 14,
   "id": "af972b17",
   "metadata": {},
   "outputs": [
    {
     "data": {
      "text/plain": [
       "'1.5.0'"
      ]
     },
     "execution_count": 14,
     "metadata": {},
     "output_type": "execute_result"
    }
   ],
   "source": [
    "import mmcv\n",
    "mmcv.__version__"
   ]
  },
  {
   "cell_type": "code",
   "execution_count": 15,
   "id": "01f4397c",
   "metadata": {},
   "outputs": [
    {
     "name": "stdout",
     "output_type": "stream",
     "text": [
      "2.25.1\n"
     ]
    }
   ],
   "source": [
    "import mmdet\n",
    "print(mmdet.__version__)"
   ]
  },
  {
   "cell_type": "code",
   "execution_count": null,
   "id": "64325715",
   "metadata": {},
   "outputs": [],
   "source": []
  }
 ],
 "metadata": {
  "kernelspec": {
   "display_name": "Python 3 (ipykernel)",
   "language": "python",
   "name": "python3"
  },
  "language_info": {
   "codemirror_mode": {
    "name": "ipython",
    "version": 3
   },
   "file_extension": ".py",
   "mimetype": "text/x-python",
   "name": "python",
   "nbconvert_exporter": "python",
   "pygments_lexer": "ipython3",
   "version": "3.7.12"
  }
 },
 "nbformat": 4,
 "nbformat_minor": 5
}
